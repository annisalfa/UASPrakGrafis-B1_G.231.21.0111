{
  "nbformat": 4,
  "nbformat_minor": 0,
  "metadata": {
    "colab": {
      "provenance": []
    },
    "kernelspec": {
      "name": "python3",
      "display_name": "Python 3"
    },
    "language_info": {
      "name": "python"
    }
  },
  "cells": [
    {
      "cell_type": "code",
      "execution_count": 99,
      "metadata": {
        "colab": {
          "base_uri": "https://localhost:8080/",
          "height": 536
        },
        "id": "R4lnhFv95fWj",
        "outputId": "23c0a478-956b-44b3-9fb0-ba90e3b5bfd3"
      },
      "outputs": [
        {
          "output_type": "execute_result",
          "data": {
            "text/plain": [
              "                    Stock Name Symbol  Shares  Purchase Price Cost Basis  \\\n",
              "0                        Apple   AAPL     100            90.0   9.000.00   \n",
              "1                    Microsoft   MSFT     200            32.0   6.400.00   \n",
              "2                   Salesforce    CRM     150            25.0   3.750.00   \n",
              "3                       Oracle   ORCL     250            50.0  12.500.00   \n",
              "4   Hewlett Packard Enterprise    HPE     500            18.0   9.000.00   \n",
              "5                     Alphabet   GOOG     100           225.0  22.500.00   \n",
              "6                        Intel   INTC     200            22.0   4.400.00   \n",
              "7                        Cisco   CSCO     225            18.0   4.050.00   \n",
              "8                     Qualcomm   QCOM     185            65.0  12.025.00   \n",
              "9                       Amazon   AMZN      50           800.0  40.000.00   \n",
              "10                      Redhat    RHT     100            95.0   9.500.00   \n",
              "11                    Facebook     FB    1000            17.0  17.000.00   \n",
              "12                     Twitter   TWTR     500            45.0  22.500.00   \n",
              "\n",
              "    Current Price  Market Value   Gain/Loss  Dividend/share  Annual Yield  \n",
              "0          144.13      14413.27   14.269.14            2.28          1.58  \n",
              "1           65.57      13114.14   13.048.57            1.56          2.38  \n",
              "2           82.57      12385.50   12.302.93            0.00          0.00  \n",
              "3           44.56      11138.75   11.094.20            0.64          1.44  \n",
              "4           17.69       8842.50    8.824.82            0.26          1.47  \n",
              "5          833.36      83336.00   82.502.64            0.00          0.00  \n",
              "6           36.07       7213.00    7.176.94            1.09          3.02  \n",
              "7           33.24       7478.78    7.445.54            1.16          3.49  \n",
              "8           56.48      10447.88   10.391.40            2.12          3.75  \n",
              "9          897.64      44882.00   43.984.36            0.00          0.00  \n",
              "10          86.26       8626.00    8.539.74            0.00          0.00  \n",
              "11         141.64     141640.00  141.498.36            0.00          0.00  \n",
              "12          14.61       7302.55    7.287.94            0.00          0.00  "
            ],
            "text/html": [
              "\n",
              "  <div id=\"df-e333d7ef-477a-415f-93e8-385bf5a18210\">\n",
              "    <div class=\"colab-df-container\">\n",
              "      <div>\n",
              "<style scoped>\n",
              "    .dataframe tbody tr th:only-of-type {\n",
              "        vertical-align: middle;\n",
              "    }\n",
              "\n",
              "    .dataframe tbody tr th {\n",
              "        vertical-align: top;\n",
              "    }\n",
              "\n",
              "    .dataframe thead th {\n",
              "        text-align: right;\n",
              "    }\n",
              "</style>\n",
              "<table border=\"1\" class=\"dataframe\">\n",
              "  <thead>\n",
              "    <tr style=\"text-align: right;\">\n",
              "      <th></th>\n",
              "      <th>Stock Name</th>\n",
              "      <th>Symbol</th>\n",
              "      <th>Shares</th>\n",
              "      <th>Purchase Price</th>\n",
              "      <th>Cost Basis</th>\n",
              "      <th>Current Price</th>\n",
              "      <th>Market Value</th>\n",
              "      <th>Gain/Loss</th>\n",
              "      <th>Dividend/share</th>\n",
              "      <th>Annual Yield</th>\n",
              "    </tr>\n",
              "  </thead>\n",
              "  <tbody>\n",
              "    <tr>\n",
              "      <th>0</th>\n",
              "      <td>Apple</td>\n",
              "      <td>AAPL</td>\n",
              "      <td>100</td>\n",
              "      <td>90.0</td>\n",
              "      <td>9.000.00</td>\n",
              "      <td>144.13</td>\n",
              "      <td>14413.27</td>\n",
              "      <td>14.269.14</td>\n",
              "      <td>2.28</td>\n",
              "      <td>1.58</td>\n",
              "    </tr>\n",
              "    <tr>\n",
              "      <th>1</th>\n",
              "      <td>Microsoft</td>\n",
              "      <td>MSFT</td>\n",
              "      <td>200</td>\n",
              "      <td>32.0</td>\n",
              "      <td>6.400.00</td>\n",
              "      <td>65.57</td>\n",
              "      <td>13114.14</td>\n",
              "      <td>13.048.57</td>\n",
              "      <td>1.56</td>\n",
              "      <td>2.38</td>\n",
              "    </tr>\n",
              "    <tr>\n",
              "      <th>2</th>\n",
              "      <td>Salesforce</td>\n",
              "      <td>CRM</td>\n",
              "      <td>150</td>\n",
              "      <td>25.0</td>\n",
              "      <td>3.750.00</td>\n",
              "      <td>82.57</td>\n",
              "      <td>12385.50</td>\n",
              "      <td>12.302.93</td>\n",
              "      <td>0.00</td>\n",
              "      <td>0.00</td>\n",
              "    </tr>\n",
              "    <tr>\n",
              "      <th>3</th>\n",
              "      <td>Oracle</td>\n",
              "      <td>ORCL</td>\n",
              "      <td>250</td>\n",
              "      <td>50.0</td>\n",
              "      <td>12.500.00</td>\n",
              "      <td>44.56</td>\n",
              "      <td>11138.75</td>\n",
              "      <td>11.094.20</td>\n",
              "      <td>0.64</td>\n",
              "      <td>1.44</td>\n",
              "    </tr>\n",
              "    <tr>\n",
              "      <th>4</th>\n",
              "      <td>Hewlett Packard Enterprise</td>\n",
              "      <td>HPE</td>\n",
              "      <td>500</td>\n",
              "      <td>18.0</td>\n",
              "      <td>9.000.00</td>\n",
              "      <td>17.69</td>\n",
              "      <td>8842.50</td>\n",
              "      <td>8.824.82</td>\n",
              "      <td>0.26</td>\n",
              "      <td>1.47</td>\n",
              "    </tr>\n",
              "    <tr>\n",
              "      <th>5</th>\n",
              "      <td>Alphabet</td>\n",
              "      <td>GOOG</td>\n",
              "      <td>100</td>\n",
              "      <td>225.0</td>\n",
              "      <td>22.500.00</td>\n",
              "      <td>833.36</td>\n",
              "      <td>83336.00</td>\n",
              "      <td>82.502.64</td>\n",
              "      <td>0.00</td>\n",
              "      <td>0.00</td>\n",
              "    </tr>\n",
              "    <tr>\n",
              "      <th>6</th>\n",
              "      <td>Intel</td>\n",
              "      <td>INTC</td>\n",
              "      <td>200</td>\n",
              "      <td>22.0</td>\n",
              "      <td>4.400.00</td>\n",
              "      <td>36.07</td>\n",
              "      <td>7213.00</td>\n",
              "      <td>7.176.94</td>\n",
              "      <td>1.09</td>\n",
              "      <td>3.02</td>\n",
              "    </tr>\n",
              "    <tr>\n",
              "      <th>7</th>\n",
              "      <td>Cisco</td>\n",
              "      <td>CSCO</td>\n",
              "      <td>225</td>\n",
              "      <td>18.0</td>\n",
              "      <td>4.050.00</td>\n",
              "      <td>33.24</td>\n",
              "      <td>7478.78</td>\n",
              "      <td>7.445.54</td>\n",
              "      <td>1.16</td>\n",
              "      <td>3.49</td>\n",
              "    </tr>\n",
              "    <tr>\n",
              "      <th>8</th>\n",
              "      <td>Qualcomm</td>\n",
              "      <td>QCOM</td>\n",
              "      <td>185</td>\n",
              "      <td>65.0</td>\n",
              "      <td>12.025.00</td>\n",
              "      <td>56.48</td>\n",
              "      <td>10447.88</td>\n",
              "      <td>10.391.40</td>\n",
              "      <td>2.12</td>\n",
              "      <td>3.75</td>\n",
              "    </tr>\n",
              "    <tr>\n",
              "      <th>9</th>\n",
              "      <td>Amazon</td>\n",
              "      <td>AMZN</td>\n",
              "      <td>50</td>\n",
              "      <td>800.0</td>\n",
              "      <td>40.000.00</td>\n",
              "      <td>897.64</td>\n",
              "      <td>44882.00</td>\n",
              "      <td>43.984.36</td>\n",
              "      <td>0.00</td>\n",
              "      <td>0.00</td>\n",
              "    </tr>\n",
              "    <tr>\n",
              "      <th>10</th>\n",
              "      <td>Redhat</td>\n",
              "      <td>RHT</td>\n",
              "      <td>100</td>\n",
              "      <td>95.0</td>\n",
              "      <td>9.500.00</td>\n",
              "      <td>86.26</td>\n",
              "      <td>8626.00</td>\n",
              "      <td>8.539.74</td>\n",
              "      <td>0.00</td>\n",
              "      <td>0.00</td>\n",
              "    </tr>\n",
              "    <tr>\n",
              "      <th>11</th>\n",
              "      <td>Facebook</td>\n",
              "      <td>FB</td>\n",
              "      <td>1000</td>\n",
              "      <td>17.0</td>\n",
              "      <td>17.000.00</td>\n",
              "      <td>141.64</td>\n",
              "      <td>141640.00</td>\n",
              "      <td>141.498.36</td>\n",
              "      <td>0.00</td>\n",
              "      <td>0.00</td>\n",
              "    </tr>\n",
              "    <tr>\n",
              "      <th>12</th>\n",
              "      <td>Twitter</td>\n",
              "      <td>TWTR</td>\n",
              "      <td>500</td>\n",
              "      <td>45.0</td>\n",
              "      <td>22.500.00</td>\n",
              "      <td>14.61</td>\n",
              "      <td>7302.55</td>\n",
              "      <td>7.287.94</td>\n",
              "      <td>0.00</td>\n",
              "      <td>0.00</td>\n",
              "    </tr>\n",
              "  </tbody>\n",
              "</table>\n",
              "</div>\n",
              "      <button class=\"colab-df-convert\" onclick=\"convertToInteractive('df-e333d7ef-477a-415f-93e8-385bf5a18210')\"\n",
              "              title=\"Convert this dataframe to an interactive table.\"\n",
              "              style=\"display:none;\">\n",
              "        \n",
              "  <svg xmlns=\"http://www.w3.org/2000/svg\" height=\"24px\"viewBox=\"0 0 24 24\"\n",
              "       width=\"24px\">\n",
              "    <path d=\"M0 0h24v24H0V0z\" fill=\"none\"/>\n",
              "    <path d=\"M18.56 5.44l.94 2.06.94-2.06 2.06-.94-2.06-.94-.94-2.06-.94 2.06-2.06.94zm-11 1L8.5 8.5l.94-2.06 2.06-.94-2.06-.94L8.5 2.5l-.94 2.06-2.06.94zm10 10l.94 2.06.94-2.06 2.06-.94-2.06-.94-.94-2.06-.94 2.06-2.06.94z\"/><path d=\"M17.41 7.96l-1.37-1.37c-.4-.4-.92-.59-1.43-.59-.52 0-1.04.2-1.43.59L10.3 9.45l-7.72 7.72c-.78.78-.78 2.05 0 2.83L4 21.41c.39.39.9.59 1.41.59.51 0 1.02-.2 1.41-.59l7.78-7.78 2.81-2.81c.8-.78.8-2.07 0-2.86zM5.41 20L4 18.59l7.72-7.72 1.47 1.35L5.41 20z\"/>\n",
              "  </svg>\n",
              "      </button>\n",
              "      \n",
              "  <style>\n",
              "    .colab-df-container {\n",
              "      display:flex;\n",
              "      flex-wrap:wrap;\n",
              "      gap: 12px;\n",
              "    }\n",
              "\n",
              "    .colab-df-convert {\n",
              "      background-color: #E8F0FE;\n",
              "      border: none;\n",
              "      border-radius: 50%;\n",
              "      cursor: pointer;\n",
              "      display: none;\n",
              "      fill: #1967D2;\n",
              "      height: 32px;\n",
              "      padding: 0 0 0 0;\n",
              "      width: 32px;\n",
              "    }\n",
              "\n",
              "    .colab-df-convert:hover {\n",
              "      background-color: #E2EBFA;\n",
              "      box-shadow: 0px 1px 2px rgba(60, 64, 67, 0.3), 0px 1px 3px 1px rgba(60, 64, 67, 0.15);\n",
              "      fill: #174EA6;\n",
              "    }\n",
              "\n",
              "    [theme=dark] .colab-df-convert {\n",
              "      background-color: #3B4455;\n",
              "      fill: #D2E3FC;\n",
              "    }\n",
              "\n",
              "    [theme=dark] .colab-df-convert:hover {\n",
              "      background-color: #434B5C;\n",
              "      box-shadow: 0px 1px 3px 1px rgba(0, 0, 0, 0.15);\n",
              "      filter: drop-shadow(0px 1px 2px rgba(0, 0, 0, 0.3));\n",
              "      fill: #FFFFFF;\n",
              "    }\n",
              "  </style>\n",
              "\n",
              "      <script>\n",
              "        const buttonEl =\n",
              "          document.querySelector('#df-e333d7ef-477a-415f-93e8-385bf5a18210 button.colab-df-convert');\n",
              "        buttonEl.style.display =\n",
              "          google.colab.kernel.accessAllowed ? 'block' : 'none';\n",
              "\n",
              "        async function convertToInteractive(key) {\n",
              "          const element = document.querySelector('#df-e333d7ef-477a-415f-93e8-385bf5a18210');\n",
              "          const dataTable =\n",
              "            await google.colab.kernel.invokeFunction('convertToInteractive',\n",
              "                                                     [key], {});\n",
              "          if (!dataTable) return;\n",
              "\n",
              "          const docLinkHtml = 'Like what you see? Visit the ' +\n",
              "            '<a target=\"_blank\" href=https://colab.research.google.com/notebooks/data_table.ipynb>data table notebook</a>'\n",
              "            + ' to learn more about interactive tables.';\n",
              "          element.innerHTML = '';\n",
              "          dataTable['output_type'] = 'display_data';\n",
              "          await google.colab.output.renderOutput(dataTable, element);\n",
              "          const docLink = document.createElement('div');\n",
              "          docLink.innerHTML = docLinkHtml;\n",
              "          element.appendChild(docLink);\n",
              "        }\n",
              "      </script>\n",
              "    </div>\n",
              "  </div>\n",
              "  "
            ]
          },
          "metadata": {},
          "execution_count": 99
        }
      ],
      "source": [
        "import pandas as pd\n",
        "import matplotlib.pyplot as plt\n",
        "dataset = pd.read_csv ('stock.csv')\n",
        "dataset.head(14)"
      ]
    },
    {
      "cell_type": "code",
      "source": [
        "import matplotlib.pyplot as plt\n",
        "plt.figure(figsize=(10,5))\n",
        "plt.hist(dataset['Purchase Price'], bins=50, color='orange', edgecolor='red')\n",
        "plt.xlabel('Purchase Price')\n",
        "plt.ylabel('Distribusi')\n",
        "plt.title('Histogram of Purchase Price')\n",
        "\n",
        "plt.show()"
      ],
      "metadata": {
        "colab": {
          "base_uri": "https://localhost:8080/",
          "height": 487
        },
        "id": "BRsiohpwWoJk",
        "outputId": "88496f01-7c4b-4820-a9fc-b0b1c9f8d6d2"
      },
      "execution_count": 100,
      "outputs": [
        {
          "output_type": "display_data",
          "data": {
            "text/plain": [
              "<Figure size 1000x500 with 1 Axes>"
            ],
            "image/png": "[encoded data removed]"
          },
          "metadata": {}
        }
      ]
    },
    {
      "cell_type": "code",
      "source": [
        "import matplotlib.pyplot as plt\n",
        "plt.figure(figsize=(10,5))\n",
        "plt.hist(dataset['Current Price'], bins=100, color='green', edgecolor='black')\n",
        "plt.xlabel('Current Price')\n",
        "plt.ylabel('Distribusi')\n",
        "plt.title('Histogram of Current Price')\n",
        "\n",
        "plt.show()"
      ],
      "metadata": {
        "colab": {
          "base_uri": "https://localhost:8080/",
          "height": 487
        },
        "id": "f1VaOd7vcg7P",
        "outputId": "fa3d4301-2d14-467e-c242-a0df669b21b6"
      },
      "execution_count": 101,
      "outputs": [
        {
          "output_type": "display_data",
          "data": {
            "text/plain": [
              "<Figure size 1000x500 with 1 Axes>"
            ],
            "image/png": "[encoded data removed]"
          },
          "metadata": {}
        }
      ]
    },
    {
      "cell_type": "code",
      "source": [
        "import matplotlib.pyplot as plt\n",
        "plt.figure(figsize=(10,5))\n",
        "plt.hist(dataset['Current Price'], bins=80, color='blue', edgecolor='navy')\n",
        "plt.xlabel('Gain/Loss')\n",
        "plt.ylabel('Distibusi')\n",
        "plt.title('Histogram of Gain/Loss')\n",
        "plt.show()"
      ],
      "metadata": {
        "colab": {
          "base_uri": "https://localhost:8080/",
          "height": 487
        },
        "id": "oe7e9V12cv_r",
        "outputId": "81dbbe41-8069-472b-a17a-5fcb0e776f0b"
      },
      "execution_count": 102,
      "outputs": [
        {
          "output_type": "display_data",
          "data": {
            "text/plain": [
              "<Figure size 1000x500 with 1 Axes>"
            ],
            "image/png": "[encoded data removed]"
          },
          "metadata": {}
        }
      ]
    },
    {
      "cell_type": "code",
      "source": [
        "Dividend_top5 = dataset.nlargest(5, 'Dividend/share')[['Stock Name', 'Symbol', 'Dividend/share']]\n",
        "print('Stock Name dan Symbol yang memiliki Dividen / Share 5 tertinggi:')\n",
        "print(' ')\n",
        "print(Dividend_top5)"
      ],
      "metadata": {
        "colab": {
          "base_uri": "https://localhost:8080/"
        },
        "id": "V_ONDEK4c-b4",
        "outputId": "cca33a41-5aa7-4125-deb1-1aad10a1b5b1"
      },
      "execution_count": 103,
      "outputs": [
        {
          "output_type": "stream",
          "name": "stdout",
          "text": [
            "Stock Name dan Symbol yang memiliki Dividen / Share 5 tertinggi:\n",
            " \n",
            "  Stock Name Symbol  Dividend/share\n",
            "0      Apple   AAPL            2.28\n",
            "8   Qualcomm   QCOM            2.12\n",
            "1  Microsoft   MSFT            1.56\n",
            "7      Cisco   CSCO            1.16\n",
            "6      Intel   INTC            1.09\n"
          ]
        }
      ]
    },
    {
      "cell_type": "code",
      "source": [
        "top_market_value = dataset.nlargest(5, 'Market Value')[['Stock Name', 'Symbol', 'Market Value']]\n",
        "print('Atribut Stock Name dan Symbol yang memiliki Market Value 5 tertinggi:')\n",
        "print(top_market_value)\n"
      ],
      "metadata": {
        "colab": {
          "base_uri": "https://localhost:8080/"
        },
        "id": "p5TvlVO_fTeS",
        "outputId": "5fb8783c-ac3c-42fa-8db1-effd3351c059"
      },
      "execution_count": 106,
      "outputs": [
        {
          "output_type": "stream",
          "name": "stdout",
          "text": [
            "Atribut Stock Name dan Symbol yang memiliki Market Value 5 tertinggi:\n",
            "   Stock Name Symbol  Market Value\n",
            "11   Facebook     FB     141640.00\n",
            "5    Alphabet   GOOG      83336.00\n",
            "9      Amazon   AMZN      44882.00\n",
            "0       Apple   AAPL      14413.27\n",
            "1   Microsoft   MSFT      13114.14\n"
          ]
        }
      ]
    },
    {
      "cell_type": "code",
      "source": [
        "annual_yield_7tertinggi = dataset.nlargest(7, 'Annual Yield')[['Stock Name', 'Symbol', 'Annual Yield']]\n",
        "print('Atribut Stock Name dan Symbol yang memiliki Annual Yield 7 tertinggi:')\n",
        "print(' ')\n",
        "print(annual_yield_7tertinggi)"
      ],
      "metadata": {
        "colab": {
          "base_uri": "https://localhost:8080/"
        },
        "id": "yZHOpLwggIXl",
        "outputId": "98926369-76ba-4d49-c448-7c7b222598f0"
      },
      "execution_count": 105,
      "outputs": [
        {
          "output_type": "stream",
          "name": "stdout",
          "text": [
            "Atribut Stock Name dan Symbol yang memiliki Annual Yield 7 tertinggi:\n",
            " \n",
            "                   Stock Name Symbol  Annual Yield\n",
            "8                    Qualcomm   QCOM          3.75\n",
            "7                       Cisco   CSCO          3.49\n",
            "6                       Intel   INTC          3.02\n",
            "1                   Microsoft   MSFT          2.38\n",
            "0                       Apple   AAPL          1.58\n",
            "4  Hewlett Packard Enterprise    HPE          1.47\n",
            "3                      Oracle   ORCL          1.44\n"
          ]
        }
      ]
    }
  ]
}